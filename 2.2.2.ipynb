{
 "cells": [
  {
   "cell_type": "markdown",
   "metadata": {},
   "source": [
    "### a. Convierta la imagen a bytes. Utilice `numpy` para convertir la imagen a bytes, utilice un `reshape` de `405,480,4`."
   ]
  },
  {
   "cell_type": "code",
   "execution_count": 80,
   "metadata": {},
   "outputs": [],
   "source": [
    "from PIL import Image\n",
    "import numpy as np\n",
    "from cryptography.hazmat.primitives.ciphers import Cipher, algorithms, modes\n",
    "from cryptography.hazmat.backends import default_backend\n",
    "from cryptography.hazmat.primitives import padding"
   ]
  },
  {
   "cell_type": "code",
   "execution_count": 81,
   "metadata": {},
   "outputs": [],
   "source": [
    "image = Image.open('tux.bmp')"
   ]
  },
  {
   "cell_type": "code",
   "execution_count": 82,
   "metadata": {},
   "outputs": [],
   "source": [
    "image_array = np.array(image)"
   ]
  },
  {
   "cell_type": "code",
   "execution_count": 83,
   "metadata": {},
   "outputs": [],
   "source": [
    "image_array = image_array.reshape((405, 480, 4))"
   ]
  },
  {
   "cell_type": "code",
   "execution_count": 84,
   "metadata": {},
   "outputs": [],
   "source": [
    "image_bytes = image_array.tobytes()"
   ]
  },
  {
   "cell_type": "code",
   "execution_count": 85,
   "metadata": {},
   "outputs": [
    {
     "name": "stdout",
     "output_type": "stream",
     "text": [
      "777600\n"
     ]
    }
   ],
   "source": [
    "print(len(image_bytes))"
   ]
  },
  {
   "cell_type": "markdown",
   "metadata": {},
   "source": [
    "### b. Cifre los bytes de la imagen utilizando `AES 128` con modo de operación `ECB`"
   ]
  },
  {
   "cell_type": "code",
   "execution_count": 86,
   "metadata": {},
   "outputs": [
    {
     "name": "stdout",
     "output_type": "stream",
     "text": [
      "777616\n"
     ]
    }
   ],
   "source": [
    "# Crear una clave de 128 bits (16 bytes)\n",
    "key = b'Sixteen byte key'\n",
    "\n",
    "# Crear el cifrador AES en modo ECB\n",
    "cipher = Cipher(algorithms.AES(key), modes.ECB(), backend=default_backend())\n",
    "encryptor = cipher.encryptor()\n",
    "\n",
    "# Asegurarse de que los datos están alineados al tamaño del bloque\n",
    "padder = padding.PKCS7(algorithms.AES.block_size).padder()\n",
    "padded_data = padder.update(image_bytes) + padder.finalize()\n",
    "\n",
    "# Cifrar los bytes\n",
    "encrypted_bytes = encryptor.update(padded_data) + encryptor.finalize()\n",
    "\n",
    "# Mostrar la longitud de los bytes cifrados para verificar\n",
    "print(len(encrypted_bytes))"
   ]
  },
  {
   "cell_type": "code",
   "execution_count": 87,
   "metadata": {},
   "outputs": [
    {
     "name": "stdout",
     "output_type": "stream",
     "text": [
      "La imagen cifrada se ha guardado como 'encrypted_image_1.png'.\n"
     ]
    }
   ],
   "source": [
    "# Convertir los bytes cifrados de nuevo a un array de numpy\n",
    "encrypted_array = np.frombuffer(encrypted_bytes, dtype=np.uint8)\n",
    "\n",
    "# Hacer un reshape del array a las dimensiones 405, 480, 4\n",
    "encrypted_array = encrypted_array[:405*480*4].reshape((405, 480, 4))\n",
    "\n",
    "# Crear una nueva imagen a partir del array cifrado\n",
    "encrypted_image = Image.fromarray(encrypted_array, 'RGBA')\n",
    "\n",
    "# Guardar la nueva imagen como PNG\n",
    "encrypted_image.save('encrypted_image_1.png')\n",
    "\n",
    "print(\"La imagen cifrada se ha guardado como 'encrypted_image_1.png'.\")"
   ]
  },
  {
   "cell_type": "code",
   "execution_count": 88,
   "metadata": {},
   "outputs": [
    {
     "name": "stdout",
     "output_type": "stream",
     "text": [
      "777616\n"
     ]
    }
   ],
   "source": [
    "import os\n",
    "\n",
    "# Crear una clave de 128 bits (16 bytes)\n",
    "key = b'Sixteen byte key'\n",
    "\n",
    "# Generar un vector de inicialización (IV) aleatorio\n",
    "iv = os.urandom(16)\n",
    "\n",
    "# Crear el cifrador AES en modo ECB\n",
    "cipher = Cipher(algorithms.AES(key), modes.CBC(iv), backend=default_backend())\n",
    "encryptor = cipher.encryptor()\n",
    "\n",
    "# Asegurarse de que los datos están alineados al tamaño del bloque\n",
    "padder = padding.PKCS7(algorithms.AES.block_size).padder()\n",
    "padded_data = padder.update(image_bytes) + padder.finalize()\n",
    "\n",
    "# Cifrar los bytes\n",
    "encrypted_bytes = encryptor.update(padded_data) + encryptor.finalize()\n",
    "\n",
    "# Mostrar la longitud de los bytes cifrados para verificar\n",
    "print(len(encrypted_bytes))"
   ]
  },
  {
   "cell_type": "code",
   "execution_count": 89,
   "metadata": {},
   "outputs": [
    {
     "name": "stdout",
     "output_type": "stream",
     "text": [
      "La imagen cifrada se ha guardado como 'encrypted_image_2.png'.\n"
     ]
    }
   ],
   "source": [
    "# Convertir los bytes cifrados de nuevo a un array de numpy\n",
    "encrypted_array = np.frombuffer(encrypted_bytes, dtype=np.uint8)\n",
    "\n",
    "# Hacer un reshape del array a las dimensiones 405, 480, 4\n",
    "encrypted_array = encrypted_array[:405*480*4].reshape((405, 480, 4))\n",
    "\n",
    "# Crear una nueva imagen a partir del array cifrado\n",
    "encrypted_image = Image.fromarray(encrypted_array, 'RGBA')\n",
    "\n",
    "# Guardar la nueva imagen como PNG\n",
    "encrypted_image.save('encrypted_image_2.png')\n",
    "\n",
    "print(\"La imagen cifrada se ha guardado como 'encrypted_image_2.png'.\")"
   ]
  }
 ],
 "metadata": {
  "kernelspec": {
   "display_name": "Python 3",
   "language": "python",
   "name": "python3"
  },
  "language_info": {
   "codemirror_mode": {
    "name": "ipython",
    "version": 3
   },
   "file_extension": ".py",
   "mimetype": "text/x-python",
   "name": "python",
   "nbconvert_exporter": "python",
   "pygments_lexer": "ipython3",
   "version": "3.12.3"
  }
 },
 "nbformat": 4,
 "nbformat_minor": 2
}
